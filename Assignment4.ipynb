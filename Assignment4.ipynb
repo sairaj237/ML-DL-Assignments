{
 "cells": [
  {
   "cell_type": "code",
   "execution_count": 1,
   "id": "603cff9b-7676-4da3-ab20-ddf902aaf133",
   "metadata": {},
   "outputs": [],
   "source": [
    "import numpy as np \n",
    "import pandas as pd\n",
    "from sklearn.metrics import precision_score, recall_score, f1_score, confusion_matrix,accuracy_score\n"
   ]
  },
  {
   "cell_type": "code",
   "execution_count": 2,
   "id": "b93e21e2-a518-47ac-a0b1-ad9254bdeac0",
   "metadata": {},
   "outputs": [],
   "source": [
    "# Actual labels (1 = spam, 0 = non-spam)\n",
    "actual_output = np.array([1, 1, 1, 0, 1, 0, 1, 0])\n",
    "# Predicted labels (1 = spam, 0 = non-spam)\n",
    "predicted_output = np.array([1, 0, 1, 0, 0, 0, 1, 0])\n"
   ]
  },
  {
   "cell_type": "markdown",
   "id": "87ccca1a-7081-4144-a744-948567aa19c2",
   "metadata": {},
   "source": [
    "# Accuracy"
   ]
  },
  {
   "cell_type": "code",
   "execution_count": 3,
   "id": "95799caf-dc2b-48a7-aae4-0b77ffd6bd52",
   "metadata": {},
   "outputs": [],
   "source": [
    "accuracy = accuracy_score(actual_output,predicted_output)"
   ]
  },
  {
   "cell_type": "code",
   "execution_count": 4,
   "id": "e0973d5d-d90f-4eff-a4c4-7474d0c413f5",
   "metadata": {},
   "outputs": [
    {
     "data": {
      "text/plain": [
       "0.75"
      ]
     },
     "execution_count": 4,
     "metadata": {},
     "output_type": "execute_result"
    }
   ],
   "source": [
    "accuracy"
   ]
  },
  {
   "cell_type": "markdown",
   "id": "d7390f0b-de59-4a0d-bb10-429a2a69d730",
   "metadata": {},
   "source": [
    "#TP = 3 \n",
    "#FN = 0\n",
    "#FP = 2 \n",
    "#TN = 3 "
   ]
  },
  {
   "cell_type": "code",
   "execution_count": 5,
   "id": "c21c5a47-4359-4e6f-aa3c-bb5f884882fa",
   "metadata": {},
   "outputs": [
    {
     "data": {
      "text/plain": [
       "array([[3, 0],\n",
       "       [2, 3]])"
      ]
     },
     "execution_count": 5,
     "metadata": {},
     "output_type": "execute_result"
    }
   ],
   "source": [
    "conf_matrix = confusion_matrix(actual_output,predicted_output)\n",
    "conf_matrix"
   ]
  },
  {
   "cell_type": "markdown",
   "id": "171fdfcb-7d34-482c-bb76-7df54e877e49",
   "metadata": {},
   "source": [
    "# Precision = True Positive / True Positive + False Positive"
   ]
  },
  {
   "cell_type": "code",
   "execution_count": 6,
   "id": "409eb16a-395b-470f-aed3-5b6187cab83e",
   "metadata": {},
   "outputs": [
    {
     "data": {
      "text/plain": [
       "np.float64(1.0)"
      ]
     },
     "execution_count": 6,
     "metadata": {},
     "output_type": "execute_result"
    }
   ],
   "source": [
    "precision = precision_score(actual_output,predicted_output)\n",
    "precision"
   ]
  },
  {
   "cell_type": "markdown",
   "id": "4be1c880-15fb-4cfb-b2d4-784dfcf1ffd4",
   "metadata": {},
   "source": [
    "# Recall = True Positive / True Positive + False Negative "
   ]
  },
  {
   "cell_type": "code",
   "execution_count": 7,
   "id": "1f7f89d6-0aa6-4bed-be6e-03b074ccf4a6",
   "metadata": {},
   "outputs": [
    {
     "data": {
      "text/plain": [
       "np.float64(0.6)"
      ]
     },
     "execution_count": 7,
     "metadata": {},
     "output_type": "execute_result"
    }
   ],
   "source": [
    "recall = recall_score(actual_output,predicted_output)\n",
    "recall"
   ]
  },
  {
   "cell_type": "markdown",
   "id": "b836e4bd-84ee-41a2-b316-549cc364c5ce",
   "metadata": {},
   "source": [
    "# F1 = 2 * Precision*Recall / Precison + Recall"
   ]
  },
  {
   "cell_type": "code",
   "execution_count": 8,
   "id": "5774f246-8a45-463e-a4ea-52e85dc2d09a",
   "metadata": {},
   "outputs": [
    {
     "data": {
      "text/plain": [
       "np.float64(0.75)"
      ]
     },
     "execution_count": 8,
     "metadata": {},
     "output_type": "execute_result"
    }
   ],
   "source": [
    "f1 = f1_score(actual_output,predicted_output)\n",
    "f1 "
   ]
  }
 ],
 "metadata": {
  "kernelspec": {
   "display_name": "Python 3",
   "language": "python",
   "name": "python3"
  },
  "language_info": {
   "codemirror_mode": {
    "name": "ipython",
    "version": 3
   },
   "file_extension": ".py",
   "mimetype": "text/x-python",
   "name": "python",
   "nbconvert_exporter": "python",
   "pygments_lexer": "ipython3",
   "version": "3.12.3"
  }
 },
 "nbformat": 4,
 "nbformat_minor": 5
}
